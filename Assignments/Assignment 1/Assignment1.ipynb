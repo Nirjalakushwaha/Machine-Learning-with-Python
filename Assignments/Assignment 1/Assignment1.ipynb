{
 "cells": [
  {
   "cell_type": "markdown",
   "metadata": {
    "id": "UOzd0zRXW5Uv"
   },
   "source": [
    "# Week-1 Assignment\n",
    "\n",
    "*Welcome to your first assignment for the SimuTech Winter Project 2022! I hope you are excited to implement and test everything you have learned up until now. There is an interesting set of questions for you to refine your acquired skills as you delve into hands-on coding and deepen your understanding of numpy, pandas, and data visualization libraries.*"
   ]
  },
  {
   "cell_type": "markdown",
   "metadata": {
    "id": "2XFUXyq9Y9TG"
   },
   "source": [
    "# Section 0 : Importing Libraries"
   ]
  },
  {
   "cell_type": "markdown",
   "metadata": {
    "id": "D_bzcLusjSO0"
   },
   "source": [
    "*Let's begin by importing numpy, pandas and matplotlib.*"
   ]
  },
  {
   "cell_type": "code",
   "execution_count": 1,
   "metadata": {
    "id": "jdwX7bI7aGeY"
   },
   "outputs": [
    {
     "ename": "ModuleNotFoundError",
     "evalue": "No module named 'numpy'",
     "output_type": "error",
     "traceback": [
      "\u001b[1;31m---------------------------------------------------------------------------\u001b[0m",
      "\u001b[1;31mModuleNotFoundError\u001b[0m                       Traceback (most recent call last)",
      "Cell \u001b[1;32mIn[1], line 1\u001b[0m\n\u001b[1;32m----> 1\u001b[0m \u001b[38;5;28;01mimport\u001b[39;00m \u001b[38;5;21;01mnumpy\u001b[39;00m \u001b[38;5;28;01mas\u001b[39;00m \u001b[38;5;21;01mnp\u001b[39;00m\n\u001b[0;32m      2\u001b[0m \u001b[38;5;28;01mimport\u001b[39;00m \u001b[38;5;21;01mpandas\u001b[39;00m \u001b[38;5;28;01mas\u001b[39;00m \u001b[38;5;21;01mpd\u001b[39;00m\n\u001b[0;32m      3\u001b[0m \u001b[38;5;28;01mimport\u001b[39;00m \u001b[38;5;21;01mmatplotlib\u001b[39;00m\u001b[38;5;21;01m.\u001b[39;00m\u001b[38;5;21;01mpyplot\u001b[39;00m \u001b[38;5;28;01mas\u001b[39;00m \u001b[38;5;21;01mplt\u001b[39;00m\n",
      "\u001b[1;31mModuleNotFoundError\u001b[0m: No module named 'numpy'"
     ]
    }
   ],
   "source": [
    " import numpy as np\n",
    " import pandas as pd\n",
    " import matplotlib.pyplot as plt"
   ]
  },
  {
   "cell_type": "markdown",
   "metadata": {
    "id": "LM25mz5ta-Q_"
   },
   "source": [
    "# Section 1 : Playing with Python and Numpy"
   ]
  },
  {
   "cell_type": "markdown",
   "metadata": {
    "id": "TcFQVqhAdQw_"
   },
   "source": [
    "### Q1. Matrix Multiplication"
   ]
  },
  {
   "cell_type": "markdown",
   "metadata": {
    "id": "6Dcai9pys0j8"
   },
   "source": [
    "##### (i) Check if matrix multiplication is valid"
   ]
  },
  {
   "cell_type": "code",
   "execution_count": null,
   "metadata": {
    "id": "0qC4txIss3gG"
   },
   "outputs": [],
   "source": [
    "\n",
    "  def isValid(A,B):\n",
    "    # Check if the number of columns in the first matrix is equal to the number of rows in the second matrix\n",
    "    return len(A[0]) == len(B)\n",
    "\n",
    "# Example usage:\n",
    "A = [[5,7,9],\n",
    "           [10,11,12]]\n",
    "\n",
    "B = [[9,7],\n",
    "           [10,11],\n",
    "           [23,5]]\n",
    "\n",
    "if isValid(A,B):\n",
    "    result = [[sum(a * b for a, b in zip(row1, col2)) for col2 in zip(*B)] for row1 in A]\n",
    "    print(\"Matrix multiplication is valid. Resultant matrix:\")\n",
    "    for row in result:\n",
    "        print(row)\n",
    "else:\n",
    "    print(\"Matrix multiplication is not valid.\")"
   ]
  },
  {
   "cell_type": "markdown",
   "metadata": {
    "id": "OPTfRGlTdXxa"
   },
   "source": [
    "##### (ii) Using loops (without using numpy)"
   ]
  },
  {
   "cell_type": "code",
   "execution_count": null,
   "metadata": {
    "id": "V8F5ETsRct3S"
   },
   "outputs": [],
   "source": [
    "\n",
    "def matrix_multiply(A, B):\n",
    "    # Get the dimensions of the matrices\n",
    "    rows_A, cols_A = len(A), len(A[0])\n",
    "    rows_B, cols_B = len(B), len(B[0])\n",
    "\n",
    "    # Check if the matrices can be multiplied\n",
    "    if cols_A != rows_B:\n",
    "        raise ValueError(\"Matrices cannot be multiplied. Inner dimensions must match.\")\n",
    "\n",
    "    # Initialize the result matrix with zeros\n",
    "    result = [[0 for _ in range(cols_B)] for _ in range(rows_A)]\n",
    "\n",
    "    # Perform matrix multiplication using nested loops\n",
    "    for i in range(rows_A):\n",
    "        for j in range(cols_B):\n",
    "            for k in range(cols_A):\n",
    "                result[i][j] += A[i][k] * B[k][j]\n",
    "\n",
    "    return result"
   ]
  },
  {
   "cell_type": "markdown",
   "metadata": {
    "id": "umUgUTSWdos8"
   },
   "source": [
    "##### (iii) Using numpy"
   ]
  },
  {
   "cell_type": "code",
   "execution_count": null,
   "metadata": {
    "id": "-tdXlCHrduBP"
   },
   "outputs": [],
   "source": [
    "import numpy as np\n",
    "\n",
    "def matrix_multiply_2(A, B):\n",
    "    # Convert input matrices to NumPy arrays\n",
    "    A = np.array(A)\n",
    "    B = np.array(B)\n",
    "\n",
    "    # Perform matrix multiplication using NumPy's dot function\n",
    "    result_matrix = np.dot(A, B)\n",
    "\n",
    "    # Alternatively, you can use the @ operator for matrix multiplication in Python 3.5 and above\n",
    "    # result_matrix = A @ B\n",
    "\n",
    "    return result_matrix\n",
    "  "
   ]
  },
  {
   "cell_type": "markdown",
   "metadata": {
    "id": "2nMFnl84edJG"
   },
   "source": [
    "##### (iv) Testing your code\n",
    "\n",
    "Run the following cell to check if your functions are working properly.\n",
    "\n",
    "*Expected output:*\n",
    "[ [102 108 114]\n",
    " [246 261 276]\n",
    " [390 414 438]\n",
    " [534 567 600] ]"
   ]
  },
  {
   "cell_type": "code",
   "execution_count": null,
   "metadata": {
    "id": "09rX_Cm9ezmq"
   },
   "outputs": [],
   "source": [
    "A = np.array([\n",
    "    [1, 2, 3],\n",
    "    [4, 5, 6],\n",
    "    [7, 8, 9],\n",
    "    [10, 11, 12]\n",
    "])\n",
    "\n",
    "B = np.array([\n",
    "    [13, 14, 15],\n",
    "    [16, 17, 18],\n",
    "    [19, 20, 21]\n",
    "])\n",
    "\n",
    "if isValid(A,B):\n",
    "  print(f\"Result using loops: {matrix_multiply(A,B)}\")\n",
    "  print(f\"Result using numpy: {matrix_multiply_2(A,B)}\")\n",
    "else:\n",
    "  print(f\"Matrix multiplication is not valid\")"
   ]
  },
  {
   "cell_type": "markdown",
   "metadata": {
    "id": "5hfP7Ao1fwqV"
   },
   "source": [
    "### Q2. Z-Score Normalisation"
   ]
  },
  {
   "cell_type": "markdown",
   "metadata": {
    "id": "0e81Xx5Kw_CQ"
   },
   "source": [
    "Z-score normalization refers to the process of normalizing every value in a dataset such that the mean of all of the values is 0 and the standard deviation is 1.\n",
    "\n",
    "We use the following formula to perform a z-score normalization on every value in a dataset:\n",
    "\n",
    "New value = (x – μ) / σ\n",
    "\n",
    "where:\n",
    "\n",
    "x: Original value\n",
    "\n",
    "μ: Mean of data\n",
    "\n",
    "σ: Standard deviation of data"
   ]
  },
  {
   "cell_type": "markdown",
   "metadata": {
    "id": "GP_MuyUbguSR"
   },
   "source": [
    "##### (i) Without using numpy"
   ]
  },
  {
   "cell_type": "code",
   "execution_count": 2,
   "metadata": {
    "id": "0vix8qaaghwP"
   },
   "outputs": [],
   "source": [
    "def mean(x):\n",
    " x = [1, 2, 3, 4, 5]\n",
    "\n",
    " mean = sum(x) / len(x)\n",
    "\n",
    " print(\"Mean:\", mean)"
   ]
  },
  {
   "cell_type": "code",
   "execution_count": 3,
   "metadata": {
    "id": "j1qabel-g_f5"
   },
   "outputs": [
    {
     "name": "stdout",
     "output_type": "stream",
     "text": [
      "Standard Deviation: 1.4142135623730951\n"
     ]
    }
   ],
   "source": [
    "def standard_deviation(x):\n",
    "    # Calculate mean\n",
    "    mean = sum(x) / len(x)\n",
    "\n",
    "    # Calculate squared differences from the mean\n",
    "    squared_diff = [(num - mean) ** 2 for num in x]\n",
    "\n",
    "    # Calculate variance\n",
    "    variance = sum(squared_diff) / len(x)\n",
    "\n",
    "    # Calculate standard deviation\n",
    "    std_deviation = variance ** 0.5\n",
    "\n",
    "    print(\"Standard Deviation:\", std_deviation)\n",
    "\n",
    "# Example usage:\n",
    "numbers = [1, 2, 3, 4, 5]\n",
    "standard_deviation(numbers)\n"
   ]
  },
  {
   "cell_type": "code",
   "execution_count": 5,
   "metadata": {
    "id": "797ewbNqhEpY"
   },
   "outputs": [],
   "source": [
    "def zscore_normalisation(x):\n",
    "    # Calculate mean\n",
    "    mean = sum(x) / len(x)\n",
    "\n",
    "    # Calculate standard deviation\n",
    "    variance = sum((num - mean) ** 2 for num in x) / len(x)\n",
    "    std_deviation = variance ** 0.5\n",
    "\n",
    "    # Calculate z-scores for each element\n",
    "    z_scores = [(num - mean) / std_deviation for num in x]\n",
    "\n",
    "    return z_scores"
   ]
  },
  {
   "cell_type": "markdown",
   "metadata": {
    "id": "k8dq1wqRhbUB"
   },
   "source": [
    "##### (ii) Using numpy\n",
    "\n",
    "Numpy has in_built functions for calculating mean and standard deviation"
   ]
  },
  {
   "cell_type": "code",
   "execution_count": 8,
   "metadata": {
    "id": "WjxJTUDihsYg"
   },
   "outputs": [
    {
     "ename": "ModuleNotFoundError",
     "evalue": "No module named 'numpy'",
     "output_type": "error",
     "traceback": [
      "\u001b[1;31m---------------------------------------------------------------------------\u001b[0m",
      "\u001b[1;31mModuleNotFoundError\u001b[0m                       Traceback (most recent call last)",
      "Cell \u001b[1;32mIn[8], line 1\u001b[0m\n\u001b[1;32m----> 1\u001b[0m \u001b[38;5;28;01mimport\u001b[39;00m \u001b[38;5;21;01mnumpy\u001b[39;00m \u001b[38;5;28;01mas\u001b[39;00m \u001b[38;5;21;01mnp\u001b[39;00m\n\u001b[0;32m      3\u001b[0m \u001b[38;5;28;01mdef\u001b[39;00m \u001b[38;5;21mzscore_normalisation_2\u001b[39m(x):\n\u001b[0;32m      4\u001b[0m     \u001b[38;5;66;03m# Calculate mean and standard deviation using NumPy\u001b[39;00m\n\u001b[0;32m      5\u001b[0m     mean \u001b[38;5;241m=\u001b[39m np\u001b[38;5;241m.\u001b[39mmean(x)\n",
      "\u001b[1;31mModuleNotFoundError\u001b[0m: No module named 'numpy'"
     ]
    }
   ],
   "source": [
    "import numpy as np\n",
    "\n",
    "def zscore_normalisation_2(x):\n",
    "    # Calculate mean and standard deviation using NumPy\n",
    "    mean = np.mean(x)\n",
    "    std_deviation = np.std(x)\n",
    "\n",
    "    # Calculate z-scores for each element\n",
    "    z_scores = (x - mean) / std_deviation\n",
    "\n",
    "    return z_scores"
   ]
  },
  {
   "cell_type": "markdown",
   "metadata": {
    "id": "glRqKU-_1pue"
   },
   "source": [
    "##### (iii) Testing your code"
   ]
  },
  {
   "cell_type": "markdown",
   "metadata": {
    "id": "Kl7XBymOigCU"
   },
   "source": [
    "Run the following cell to check if your functions are working properly.\n",
    "\n",
    "*Expected Output:* [-1.06753267 -0.99745394 -0.99745394 -0.81057732 -0.41346451 -0.06307086\n",
    "  0.31068237  0.91803138  1.22170588  1.89913361]"
   ]
  },
  {
   "cell_type": "code",
   "execution_count": null,
   "metadata": {
    "id": "78ptZxf6ipZp"
   },
   "outputs": [],
   "source": [
    "x = [4, 7, 7, 15, 32, 47, 63, 89, 102, 131]\n",
    "print(f\"Result without using numpy: {zscore_normalisation(x)}\")\n",
    "print(f\"Result using numpy: {zscore_normalisation_2(x)}\")"
   ]
  },
  {
   "cell_type": "markdown",
   "metadata": {
    "id": "0WVscJ0z14rp"
   },
   "source": [
    "### Q3. Sigmoid fn and its derivative"
   ]
  },
  {
   "cell_type": "markdown",
   "metadata": {
    "id": "Jfntb0Rg94Tu"
   },
   "source": [
    "The sigmoid function is a mathematical function that maps any input value to a value between 0 and 1.\n",
    "\n",
    "It is defined mathematically as s(x) = 1/(1+e^(-x))."
   ]
  },
  {
   "cell_type": "markdown",
   "metadata": {
    "id": "8SCAPkjO2m7u"
   },
   "source": [
    "##### (i) Write a fn to implement sigmoid fn"
   ]
  },
  {
   "cell_type": "code",
   "execution_count": null,
   "metadata": {
    "id": "jL_TRQFG2l5m"
   },
   "outputs": [],
   "source": [
    "import numpy as np\n",
    "\n",
    "def sigmoidfn(x):\n",
    "    return 1 / (1 + np.exp(-x))"
   ]
  },
  {
   "cell_type": "markdown",
   "metadata": {
    "id": "t7KBbl7N3AUM"
   },
   "source": [
    "##### (ii) Write a fn to implement derivative of sigmoid fn"
   ]
  },
  {
   "cell_type": "code",
   "execution_count": null,
   "metadata": {
    "id": "okjuOpba3KOJ"
   },
   "outputs": [],
   "source": [
    "import numpy as np\n",
    "\n",
    "def derivative(x):\n",
    "    s_x = sigmoid(x)\n",
    "    return s_x * (1 - s_x)\n"
   ]
  },
  {
   "cell_type": "markdown",
   "metadata": {
    "id": "NdGTSpsp3mwr"
   },
   "source": [
    "##### (iii) Test your code"
   ]
  },
  {
   "cell_type": "markdown",
   "metadata": {
    "id": "lWY8RBex7gnd"
   },
   "source": [
    "Run the following cell to check if your functions are working properly.\n",
    "\n",
    "*Expected output:*\n",
    "\n",
    "x on applying sigmoid activation fn is: [ [0.99987661 0.88079708 0.99330715 0.5        0.5       ]\n",
    " [0.99908895 0.99330715 0.5        0.5        0.5       ] ]\n",
    "\n",
    "x on applying derivative of sigmoid activation fn is: [ [-1.23379350e-04 -1.04993585e-01 -6.64805667e-03 -2.50000000e-01\n",
    "  -2.50000000e-01]\n",
    " [-9.10221180e-04 -6.64805667e-03 -2.50000000e-01 -2.50000000e-01\n",
    "  -2.50000000e-01] ]"
   ]
  },
  {
   "cell_type": "code",
   "execution_count": null,
   "metadata": {
    "id": "ssDGpmS33vdA"
   },
   "outputs": [],
   "source": [
    "x = np.array([\n",
    "    [9,2,5,0,0],\n",
    "    [7,5,0,0,0]\n",
    "])\n",
    "print(f\"x on applying sigmoid activation fn is: {sigmoidfn(x)}\")\n",
    "print(f\"x on applying derivative of sigmoid activation fn is: {derivative(x)}\")"
   ]
  },
  {
   "cell_type": "markdown",
   "metadata": {
    "id": "PMa0cseyZpa1"
   },
   "source": [
    "# Section 2: Exploring Pandas"
   ]
  },
  {
   "cell_type": "markdown",
   "metadata": {},
   "source": [
    "*You have been provided with a dataset which includes information about properties of superheated vapor.*\n",
    "\n",
    "*The dataset consists of the thermophysical properties: specific volume, specific internal energy, specific enthalpy, specific entropy of superheated vapor.*\n",
    "\n",
    "*Pressure is in kPa and Temperature in centigrade. In the dataframe 75, 100, 125, etc. are temperatures.*"
   ]
  },
  {
   "cell_type": "markdown",
   "metadata": {
    "id": "i5Okb_jxZ_VW"
   },
   "source": [
    "### Read the csv file\n"
   ]
  },
  {
   "cell_type": "code",
   "execution_count": null,
   "metadata": {
    "id": "aQgvyavrcM1l"
   },
   "outputs": [],
   "source": [
    "#your code here"
   ]
  },
  {
   "cell_type": "markdown",
   "metadata": {
    "id": "Zp8F3rk2cNxy"
   },
   "source": [
    "### Display the shape of data frame\n"
   ]
  },
  {
   "cell_type": "code",
   "execution_count": null,
   "metadata": {
    "id": "v3Q8kQkucgK0"
   },
   "outputs": [],
   "source": [
    "#your code here"
   ]
  },
  {
   "cell_type": "markdown",
   "metadata": {
    "id": "w49cp-8zcgd2"
   },
   "source": [
    "### Return an array containing names of all the columns"
   ]
  },
  {
   "cell_type": "code",
   "execution_count": null,
   "metadata": {
    "id": "fz4HRb3JcsZp"
   },
   "outputs": [],
   "source": [
    "#your code here"
   ]
  },
  {
   "cell_type": "markdown",
   "metadata": {
    "id": "YkTH9tRWcrH-"
   },
   "source": [
    "### Display the number of null values in each column of the dataframe\n",
    "\n"
   ]
  },
  {
   "cell_type": "code",
   "execution_count": null,
   "metadata": {
    "id": "GK9-PJPxc3Ot"
   },
   "outputs": [],
   "source": [
    "#your code here"
   ]
  },
  {
   "cell_type": "markdown",
   "metadata": {
    "id": "Av-lcft2c3mx"
   },
   "source": [
    "### Create a column which contains the Pressure and Property columns, seperated with 'at' (For eg. V at 1, H at 101.325). Using this print the following:\n",
    "- Enthalpy at 75 kPa and 573 K\n",
    "- Entropy at 493 K and 250 kPa\n",
    "\n"
   ]
  },
  {
   "cell_type": "code",
   "execution_count": null,
   "metadata": {
    "id": "B2AihQj_c32C"
   },
   "outputs": [],
   "source": [
    "#your code here"
   ]
  },
  {
   "cell_type": "markdown",
   "metadata": {
    "id": "GpLtXYRLc4Ho"
   },
   "source": [
    "### Find out the column with the highest number of missing values"
   ]
  },
  {
   "cell_type": "code",
   "execution_count": null,
   "metadata": {
    "id": "q80Grgeyc4Xn"
   },
   "outputs": [],
   "source": [
    "#your code here"
   ]
  },
  {
   "cell_type": "markdown",
   "metadata": {
    "id": "74NVHTTac4nv"
   },
   "source": [
    "### What is the average enthalpy of Sat. Liq. at all different pressures in the dataset?"
   ]
  },
  {
   "cell_type": "code",
   "execution_count": null,
   "metadata": {
    "id": "g3mByhBDdpVr"
   },
   "outputs": [],
   "source": [
    "#your code here"
   ]
  },
  {
   "cell_type": "markdown",
   "metadata": {
    "id": "uS-SuqU8dpxg"
   },
   "source": [
    "### Separate out the V,U,H,S data from the dataset into V_data, U_data, H_data, S_data"
   ]
  },
  {
   "cell_type": "code",
   "execution_count": null,
   "metadata": {
    "id": "Sg3V9Toyd1Av"
   },
   "outputs": [],
   "source": [
    "#your code here"
   ]
  },
  {
   "cell_type": "markdown",
   "metadata": {
    "id": "Ghkj0-0-d1W7"
   },
   "source": [
    "# Section 3: Plotting with Matplotlib"
   ]
  },
  {
   "cell_type": "markdown",
   "metadata": {
    "id": "ka0qrDcZeAL6"
   },
   "source": [
    "### Plot the properties (specific volume, specific internal energy, specific enthalpy, specific entropy) vs Pressure for saturated liquid.\n",
    "\n",
    "Note:\n",
    "- Try using the subplot feature of matplotlib(Explore it!!)\n",
    "- Provide appropriate title, labels, markersize and other parameters to the plot"
   ]
  },
  {
   "cell_type": "code",
   "execution_count": null,
   "metadata": {
    "id": "XbKdm-cUePKA"
   },
   "outputs": [],
   "source": [
    "import matplotlib.pyplot as plt\n",
    "import numpy as np\n",
    "\n",
    "# Example data or functions for the properties\n",
    "pressure_range = np.linspace(300, 1500, 100)  # Pressure range from 300 kPa to 1500 kPa\n",
    "\n",
    "# Function to calculate saturated liquid properties \n",
    "def saturated_liquid_properties(p):\n",
    "    specific_volume = np.ones_like(p) \n",
    "    specific_internal_energy = np.ones_like(p)  \n",
    "    specific_enthalpy = np.ones_like(p)  \n",
    "    specific_entropy = np.ones_like(p) \n",
    "    return specific_volume, specific_internal_energy, specific_enthalpy, specific_entropy\n",
    "\n",
    "# Create subplots\n",
    "fig, axs = plt.subplots(2, 2, figsize=(12, 10))\n",
    "fig.suptitle('Saturated Liquid Properties vs Pressure', fontsize=16)\n",
    "\n",
    "# Plot 1: Specific Volume vs Pressure\n",
    "axs[0, 0].plot(pressure_range, saturated_liquid_properties(pressure_range)[0], marker='o')\n",
    "axs[0, 0].set_title('Specific Volume')\n",
    "axs[0, 0].set_xlabel('Pressure (kPa)')\n",
    "axs[0, 0].set_ylabel('Specific Volume (m³/kg)')\n",
    "\n",
    "# Plot 2: Specific Internal Energy vs Pressure\n",
    "axs[0, 1].plot(pressure_range, saturated_liquid_properties(pressure_range)[1], marker='o')\n",
    "axs[0, 1].set_title('Specific Internal Energy')\n",
    "axs[0, 1].set_xlabel('Pressure (kPa)')\n",
    "axs[0, 1].set_ylabel('Specific Internal Energy (kJ/kg)')\n",
    "\n",
    "# Plot 3: Specific Enthalpy vs Pressure\n",
    "axs[1, 0].plot(pressure_range, saturated_liquid_properties(pressure_range)[2], marker='o')\n",
    "axs[1, 0].set_title('Specific Enthalpy')\n",
    "axs[1, 0].set_xlabel('Pressure (kPa)')\n",
    "axs[1, 0].set_ylabel('Specific Enthalpy (kJ/kg)')\n",
    "\n",
    "# Plot 4: Specific Entropy vs Pressure\n",
    "axs[1, 1].plot(pressure_range, saturated_liquid_properties(pressure_range)[3], marker='o')\n",
    "axs[1, 1].set_title('Specific Entropy')\n",
    "axs[1, 1].set_xlabel('Pressure (kPa)')\n",
    "axs[1, 1].set_ylabel('Specific Entropy (kJ/(kg*K))')\n",
    "\n",
    "plt.tight_layout(rect=[0, 0, 1, 0.96])  \n",
    "plt.show()"
   ]
  },
  {
   "cell_type": "markdown",
   "metadata": {},
   "source": [
    "### Plot the same for saturated vapor."
   ]
  },
  {
   "cell_type": "code",
   "execution_count": null,
   "metadata": {},
   "outputs": [],
   "source": [
    "import matplotlib.pyplot as plt\n",
    "import numpy as np\n",
    "\n",
    "# Example data or functions for the properties\n",
    "pressure_range = np.linspace(300, 1500, 100)  # Pressure range from 300 kPa to 1500 kPa\n",
    "\n",
    "# Function to calculate saturated vapor properties\n",
    "def saturated_vapor_properties(p):\n",
    "    specific_volume = np.ones_like(p)  \n",
    "    specific_internal_energy = np.ones_like(p) \n",
    "    specific_enthalpy = np.ones_like(p)  \n",
    "    specific_entropy = np.ones_like(p)  \n",
    "    return specific_volume, specific_internal_energy, specific_enthalpy, specific_entropy\n",
    "\n",
    "# Create subplots\n",
    "fig, axs = plt.subplots(2, 2, figsize=(12, 10))\n",
    "fig.suptitle('Saturated Vapor Properties vs Pressure', fontsize=16)\n",
    "\n",
    "# Plot 1: Specific Volume vs Pressure\n",
    "axs[0, 0].plot(pressure_range, saturated_vapor_properties(pressure_range)[0], marker='o')\n",
    "axs[0, 0].set_title('Specific Volume')\n",
    "axs[0, 0].set_xlabel('Pressure (kPa)')\n",
    "axs[0, 0].set_ylabel('Specific Volume (m³/kg)')\n",
    "\n",
    "# Plot 2: Specific Internal Energy vs Pressure\n",
    "axs[0, 1].plot(pressure_range, saturated_vapor_properties(pressure_range)[1], marker='o')\n",
    "axs[0, 1].set_title('Specific Internal Energy')\n",
    "axs[0, 1].set_xlabel('Pressure (kPa)')\n",
    "axs[0, 1].set_ylabel('Specific Internal Energy (kJ/kg)')\n",
    "\n",
    "# Plot 3: Specific Enthalpy vs Pressure\n",
    "axs[1, 0].plot(pressure_range, saturated_vapor_properties(pressure_range)[2], marker='o')\n",
    "axs[1, 0].set_title('Specific Enthalpy')\n",
    "axs[1, 0].set_xlabel('Pressure (kPa)')\n",
    "axs[1, 0].set_ylabel('Specific Enthalpy (kJ/kg)')\n",
    "\n",
    "# Plot 4: Specific Entropy vs Pressure\n",
    "axs[1, 1].plot(pressure_range, saturated_vapor_properties(pressure_range)[3], marker='o')\n",
    "axs[1, 1].set_title('Specific Entropy')\n",
    "axs[1, 1].set_xlabel('Pressure (kPa)')\n",
    "axs[1, 1].set_ylabel('Specific Entropy (kJ/(kg*K))')\n",
    "\n",
    "plt.tight_layout(rect=[0, 0, 1, 0.96]) \n",
    "plt.show()"
   ]
  },
  {
   "cell_type": "markdown",
   "metadata": {
    "id": "SCLRji6TeQgh"
   },
   "source": [
    "### Plot the specific volume of saturated liquid between 300 kPa and 1500 kPa"
   ]
  },
  {
   "cell_type": "code",
   "execution_count": null,
   "metadata": {
    "id": "u6DyyI7MeYgE"
   },
   "outputs": [],
   "source": [
    "import matplotlib.pyplot as plt\n",
    "import numpy as np\n",
    "\n",
    "# Example data or function for specific volume of saturated liquid\n",
    "def specific_volume_saturated_liquid(p):\n",
    "    # Replace with actual data or function\n",
    "    return np.ones_like(p) * 0.001  # Placeholder data;\n",
    "\n",
    "# Pressure range\n",
    "pressure_range = np.linspace(300, 1500, 100)\n",
    "\n",
    "# Create a subplot\n",
    "fig, ax = plt.subplots(figsize=(8, 6))\n",
    "ax.plot(pressure_range, specific_volume_saturated_liquid(pressure_range), marker='o', label='Saturated Liquid')\n",
    "ax.set_title('Specific Volume of Saturated Liquid vs Pressure')\n",
    "ax.set_xlabel('Pressure (kPa)')\n",
    "ax.set_ylabel('Specific Volume (m³/kg)')\n",
    "ax.legend()\n",
    "ax.grid(True)\n",
    "\n",
    "plt.show()\n"
   ]
  },
  {
   "cell_type": "markdown",
   "metadata": {},
   "source": [
    "# Section 4 : Conclusion"
   ]
  },
  {
   "cell_type": "markdown",
   "metadata": {},
   "source": [
    "*Congratulations on reaching this point! I hope you had fun solving your first assignment and have also built confidence in applying these libraries. If you are wondering, we will cover more about z-score normalization in Week 2, and the sigmoid function will be used in Week 3. After completing this assignment, you are now prepared to learn about machine learning techniques and implement your own machine learning models.*"
   ]
  }
 ],
 "metadata": {
  "colab": {
   "provenance": [],
   "toc_visible": true
  },
  "kernelspec": {
   "display_name": "Python 3 (ipykernel)",
   "language": "python",
   "name": "python3"
  },
  "language_info": {
   "codemirror_mode": {
    "name": "ipython",
    "version": 3
   },
   "file_extension": ".py",
   "mimetype": "text/x-python",
   "name": "python",
   "nbconvert_exporter": "python",
   "pygments_lexer": "ipython3",
   "version": "3.12.1"
  }
 },
 "nbformat": 4,
 "nbformat_minor": 1
}
